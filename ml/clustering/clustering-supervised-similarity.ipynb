{
  "cells": [
    {
      "cell_type": "markdown",
      "metadata": {
        "id": "view-in-github",
        "colab_type": "text"
      },
      "source": [
        "<a href=\"https://colab.research.google.com/github/Nishan-AD/Nishan-AD/blob/main/ml/clustering/clustering-supervised-similarity.ipynb\" target=\"_parent\"><img src=\"https://colab.research.google.com/assets/colab-badge.svg\" alt=\"Open In Colab\"/></a>"
      ]
    },
    {
      "cell_type": "markdown",
      "metadata": {
        "id": "gNEeK9ZM7H9a"
      },
      "source": [
        "### This Colab was deprecated July 2024."
      ]
    },
    {
      "cell_type": "code",
      "source": [],
      "metadata": {
        "id": "ngrLBrqg7I9o"
      },
      "execution_count": null,
      "outputs": []
    }
  ],
  "metadata": {
    "colab": {
      "collapsed_sections": [
        "9EjQt_o9Xf_L",
        "MJtuP9w5jJHq"
      ],
      "name": "Clustering - Supervised Similarity with Chocolates",
      "provenance": [],
      "include_colab_link": true
    },
    "kernelspec": {
      "display_name": "Python 3",
      "name": "python3"
    }
  },
  "nbformat": 4,
  "nbformat_minor": 0
}